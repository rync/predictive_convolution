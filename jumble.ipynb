{
 "cells": [
  {
   "cell_type": "markdown",
   "metadata": {},
   "source": [
    "# Jumble\n",
    "\n",
    "A basic utility - takes in an audio file, chops it up into x different equally-sized segments, randomly sorts the segments, and then stitches them back together. For the indiscriminating mad scientist."
   ]
  },
  {
   "cell_type": "code",
   "execution_count": null,
   "metadata": {},
   "outputs": [],
   "source": [
    "from scipy.io import wavfile as wav\n",
    "import numpy as np\n",
    "import pandas as pd\n",
    "import math"
   ]
  },
  {
   "cell_type": "code",
   "execution_count": null,
   "metadata": {},
   "outputs": [],
   "source": [
    "# This will drop a channel if two are extracted from the wav file\n",
    "def drop_check(df):\n",
    "    samples, channels = df.shape\n",
    "    if channels > 1:\n",
    "        df.drop(1, axis=1, inplace=True)\n",
    "\n",
    "# This will extract the raw data from the wav file\n",
    "def extract_wav_data(filename):\n",
    "    rate, data = wav.read(filename)\n",
    "    inputRaw = pd.DataFrame(data)\n",
    "    \n",
    "    drop_check(inputRaw)\n",
    "\n",
    "    inputRaw.columns=['raw']\n",
    "    return inputRaw"
   ]
  },
  {
   "cell_type": "code",
   "execution_count": null,
   "metadata": {},
   "outputs": [],
   "source": [
    "def write_wav_file(filename, data, rate):\n",
    "    # Some scaling to avoid insane clipping, with a touch of headroom\n",
    "    scaled = (data / np.abs(data).max()) * 0.95\n",
    "    \n",
    "    # Adding some padding to reduce popping at the ends of the output for some algorithms\n",
    "    from_zero = slew(0, scaled[0], math.floor(len(data)/20))\n",
    "    to_zero = slew(scaled[-1], 0, math.floor(len(data)/20))\n",
    "    from_zero.extend(scaled)\n",
    "    from_zero.extend(to_zero)\n",
    "    # Writing the complete, concatenated data array out\n",
    "    wav.write(filename, rate, np.array(from_zero))\n",
    "    \n",
    "def slew(start, end, values):\n",
    "    # First, we calculate the step size\n",
    "    stepSize = (start + end)/values\n",
    "    # Initialize array with the starting value\n",
    "    output = [start]\n",
    "    # Basically, if the magnitude of the start is greater than that of the end,\n",
    "    #  we need to shrink the magnitude, not expand it\n",
    "    if(np.abs(start) < np.abs(end)):\n",
    "        for i in range(values - 1):\n",
    "            output.append(output[i] + stepSize)\n",
    "    else:\n",
    "        for i in range(values - 1):\n",
    "            output.append(output[i] - stepSize)\n",
    "    # Adding the final value to the end for good measure\n",
    "    output.append(end)\n",
    "    return output\n",
    "\n",
    "# Checks if a number is a decimal or not, e.g.:\n",
    "#  54 will return False\n",
    "#  54.0 will return False\n",
    "#  54.0000001 will return True\n",
    "#  54.72323 will return True\n",
    "def check_decimal(number):\n",
    "    if isinstance(number, float):\n",
    "        if number != math.floor(number) and number != math.ceil(number):\n",
    "            return True\n",
    "    return False"
   ]
  },
  {
   "cell_type": "code",
   "execution_count": null,
   "metadata": {},
   "outputs": [],
   "source": [
    "def jumble(wavfile, splits, outputfile):\n",
    "    bufferdata = extract_wav_data(wavfile)\n",
    "    bufferdata['index'] = bufferdata.index\n",
    "    \n",
    "    if (splits > len(bufferdata)/2) or (splits < 2) or check_decimal(splits):\n",
    "        return None\n",
    "    \n",
    "    # We'll use numpy to extract x different sets of samples, then arrange them randomly\n",
    "    segments = np.array_split(bufferdata, splits)\n",
    "    np.random.shuffle(segments)\n",
    "    output_data = concat_audio_df_array(segments)\n",
    "    \n",
    "    rate, data = wav.read(wavfile)\n",
    "    write_wav_file(outputfile, output_data, rate)\n",
    "    \n",
    "def concat_audio_df_array(df_array):\n",
    "    output = []\n",
    "    for i in range(len(df_array) - 1):\n",
    "        temp = df_array[i]['raw'].values\n",
    "        if i > 0:\n",
    "            slewed = np.concatenate((np.array(slew(output[-1], temp[0], math.ceil(len(temp)/1000) + 1)), temp), axis=0)\n",
    "            output = np.concatenate((output, slewed), axis=0)\n",
    "        else:\n",
    "            output = np.concatenate((output, temp), axis=0)\n",
    "    return output"
   ]
  },
  {
   "cell_type": "code",
   "execution_count": null,
   "metadata": {},
   "outputs": [],
   "source": [
    "audioFile = './input_audio/bells-tibetan-daniel_simon.wav'\n",
    "\n",
    "jumble(audioFile, 7, './output_audio/jumble_7_splits.wav')\n",
    "jumble(audioFile, 50, './output_audio/jumble_50_splits.wav')\n",
    "jumble(audioFile, 500, './output_audio/jumble_500_splits.wav')"
   ]
  },
  {
   "cell_type": "markdown",
   "metadata": {},
   "source": [
    "## Jumble 2: 2wice the Files, 2wice the Awesome\n",
    "\n",
    "Moving forward, let's try a more interesting approach by interpolating two files in order. If we slice the files into x portions, and then stitch them back together in order, the result may be compelling."
   ]
  },
  {
   "cell_type": "code",
   "execution_count": null,
   "metadata": {},
   "outputs": [],
   "source": [
    "def jumble2(wavfileA, wavfileB, splits, outputfile):\n",
    "    bufferdataA = extract_wav_data(wavfileA)\n",
    "    bufferdataA['index'] = bufferdataA.index\n",
    "    \n",
    "    bufferdataB = extract_wav_data(wavfileB)\n",
    "    bufferdataB['index'] = bufferdataB.index\n",
    "    \n",
    "    if (splits > len(bufferdataA)/2) or (splits > len(bufferdataB)/2) or (splits < 2) or check_decimal(splits):\n",
    "        return None\n",
    "    \n",
    "    # We'll use numpy to extract x different sets of samples, then arrange them randomly\n",
    "    segmentsA = np.array_split(bufferdataA, splits)\n",
    "    segmentsB = np.array_split(bufferdataB, splits)\n",
    "    combinedSegments = np.array([])\n",
    "    \n",
    "    for i in range(len(segmentsA)):\n",
    "        betweenSlew = slew(segmentsA[i]['raw'].values[-1], segmentsB[i]['raw'].values[0], math.ceil(len(segmentsA)/20) + 1)\n",
    "        if i > 0:\n",
    "            beforeSlew = slew(combinedSegments[-1], segmentsA[i]['raw'].values[0], math.ceil(len(segmentsA[i])/1000) + 1)\n",
    "            combinedSegments = np.append(combinedSegments, beforeSlew)\n",
    "        \n",
    "        combinedSegments = np.append(combinedSegments, segmentsA[i]['raw'])\n",
    "        combinedSegments = np.append(combinedSegments, betweenSlew)\n",
    "        combinedSegments = np.append(combinedSegments, segmentsB[i]['raw'])\n",
    "    \n",
    "    rate, data = wav.read(wavfileA)\n",
    "    write_wav_file(outputfile, combinedSegments, rate)"
   ]
  },
  {
   "cell_type": "code",
   "execution_count": null,
   "metadata": {},
   "outputs": [],
   "source": [
    "fileA = './input_audio/Indian Bell-SoundBible.com-1882377860.wav'\n",
    "fileB = './input_audio/bells-tibetan-daniel_simon.wav'\n",
    "\n",
    "jumble2(fileA, fileB, 50, './output_audio/jumble2_50_splits.wav')\n",
    "jumble2(fileA, fileB, 300, './output_audio/jumble2_300_splits.wav')\n",
    "jumble2(fileA, fileB, 1200, './output_audio/jumble2_1200_splits.wav')"
   ]
  }
 ],
 "metadata": {
  "kernelspec": {
   "display_name": "Python [Root]",
   "language": "python",
   "name": "Python [Root]"
  },
  "language_info": {
   "codemirror_mode": {
    "name": "ipython",
    "version": 3
   },
   "file_extension": ".py",
   "mimetype": "text/x-python",
   "name": "python",
   "nbconvert_exporter": "python",
   "pygments_lexer": "ipython3",
   "version": "3.5.2"
  }
 },
 "nbformat": 4,
 "nbformat_minor": 2
}
