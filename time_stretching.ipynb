{
 "cells": [
  {
   "cell_type": "markdown",
   "metadata": {},
   "source": [
    "# Predictive Time Stretching\n",
    "\n",
    "This is an attempt to use scipy's interpolation functionality to reconstruct an audio file over a different number of samples.\n",
    "\n",
    "Audio files were obtained via http://soundbible.com/"
   ]
  },
  {
   "cell_type": "code",
   "execution_count": null,
   "metadata": {},
   "outputs": [],
   "source": [
    "from scipy.io import wavfile as wav\n",
    "from scipy.interpolate import interp1d\n",
    "from scipy.fftpack import fft, ifft\n",
    "import numpy as np\n",
    "import pandas as pd\n",
    "import math"
   ]
  },
  {
   "cell_type": "code",
   "execution_count": null,
   "metadata": {},
   "outputs": [],
   "source": [
    "# This will drop a channel if two are extracted from the wav file\n",
    "def drop_check(df):\n",
    "    samples, channels = df.shape\n",
    "    if channels > 1:\n",
    "        df.drop(1, axis=1, inplace=True)\n",
    "\n",
    "# This will extract the raw data from the wav file\n",
    "def extract_wav_data(filename):\n",
    "    rate, data = wav.read(filename)\n",
    "    inputRaw = pd.DataFrame(data)\n",
    "    \n",
    "    drop_check(inputRaw)\n",
    "\n",
    "    inputRaw.columns=['raw']\n",
    "    return inputRaw"
   ]
  },
  {
   "cell_type": "code",
   "execution_count": null,
   "metadata": {},
   "outputs": [],
   "source": [
    "def time_stretch(wavfile, stretchMag, outputfile):\n",
    "    bufferdata = extract_wav_data(wavfile)\n",
    "    bufferdata['index'] = bufferdata.index\n",
    "    \n",
    "    # Now we need to use the timestretch magnitude to create the list of indeces\n",
    "    if stretchMag > 0:\n",
    "        predIndeces = slew(0, len(bufferdata), math.ceil(len(bufferdata) * abs(stretchMag)))\n",
    "    elif stretchMag < 0:\n",
    "        predIndeces = slew(len(bufferdata), 0, math.ceil(len(bufferdata) * abs(stretchMag)))\n",
    "    else:\n",
    "        return None\n",
    "    \n",
    "    wavInterpo = interp1d(bufferdata['index'].values, bufferdata['raw'].values, \n",
    "                          fill_value='extrapolate', assume_sorted=True)\n",
    "    new_Y = wavInterpo(predIndeces)\n",
    " \n",
    "    rate, data = wav.read(wavfile)\n",
    "    write_wav_file(outputfile, new_Y, rate)\n",
    "    \n",
    "def write_wav_file(filename, data, rate):\n",
    "    # Some scaling to avoid insane clipping, with a touch of headroom\n",
    "    scaled = (data / np.abs(data).max()) * 0.95\n",
    "    \n",
    "    # Adding some padding to reduce popping at the ends of the output for some algorithms\n",
    "    from_zero = slew(0, scaled[0], math.floor(len(data)/20))\n",
    "    to_zero = slew(scaled[-1], 0, math.floor(len(data)/20))\n",
    "    from_zero.extend(scaled)\n",
    "    from_zero.extend(to_zero)\n",
    "    # Writing the complete, concatenated data array out\n",
    "    wav.write(filename, rate, np.array(from_zero))\n",
    "    \n",
    "def slew(start, end, values):\n",
    "    # First, we calculate the step size\n",
    "    stepSize = (start + end)/values\n",
    "    # Initialize array with the starting value\n",
    "    output = [start]\n",
    "    # Basically, if the magnitude of the start is greater than that of the end,\n",
    "    #  we need to shrink the magnitude, not expand it\n",
    "    if(np.abs(start) < np.abs(end)):\n",
    "        for i in range(values - 1):\n",
    "            output.append(output[i] + stepSize)\n",
    "    else:\n",
    "        for i in range(values - 1):\n",
    "            output.append(output[i] - stepSize)\n",
    "    # Adding the final value to the end for good measure\n",
    "    output.append(end)\n",
    "    return output\n",
    "\n",
    "# Checks if a number is a decimal or not, e.g.:\n",
    "#  54 will return False\n",
    "#  54.0 will return False\n",
    "#  54.0000001 will return True\n",
    "#  54.72323 will return True\n",
    "def check_decimal(number):\n",
    "    if isinstance(number, float):\n",
    "        if number != math.floor(number) and number != math.ceil(number):\n",
    "            return True\n",
    "    return False"
   ]
  },
  {
   "cell_type": "code",
   "execution_count": null,
   "metadata": {},
   "outputs": [],
   "source": [
    "audioFile = './input_audio/Warbling_Vireo-Mike_Koenig-89869915.wav'\n",
    "\n",
    "time_stretch(audioFile, 2.5, 'output_audio/timestretch2_5.wav')\n",
    "time_stretch(audioFile, 0.42, 'output_audio/timestretch0_42.wav')\n",
    "time_stretch(audioFile, -1.42, 'output_audio/timestretch-1_42.wav')"
   ]
  }
 ],
 "metadata": {
  "anaconda-cloud": {},
  "kernelspec": {
   "display_name": "Python [Root]",
   "language": "python",
   "name": "Python [Root]"
  },
  "language_info": {
   "codemirror_mode": {
    "name": "ipython",
    "version": 3
   },
   "file_extension": ".py",
   "mimetype": "text/x-python",
   "name": "python",
   "nbconvert_exporter": "python",
   "pygments_lexer": "ipython3",
   "version": "3.5.2"
  }
 },
 "nbformat": 4,
 "nbformat_minor": 2
}
